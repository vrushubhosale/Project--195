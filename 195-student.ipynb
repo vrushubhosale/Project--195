{
 "cells": [
  {
   "cell_type": "code",
   "execution_count": 1,
   "metadata": {},
   "outputs": [
    {
     "name": "stdout",
     "output_type": "stream",
     "text": [
      "Name : \n",
      "In the following notebook we will how to clean and manipulate the data, and lastly come to a consulsion.\n",
      "Using the above skills set we will cleaned and manipulated the Austin weather data, to plot a point scatter graph for the average high and low temperature as per months\n",
      "Also we have plotted a point scatter graph for average temperature and humidity as per months \n"
     ]
    }
   ],
   "source": [
    "print(\"Name : \")\n",
    "print(\"In the following notebook we will how to clean and manipulate the data, and lastly come to a consulsion.\")\n",
    "print(\"Using the above skills set we will cleaned and manipulated the Austin weather data, to plot a point scatter graph for the average high and low temperature as per months\")\n",
    "print(\"Also we have plotted a point scatter graph for average temperature and humidity as per months \")\n",
    "\n"
   ]
  },
  {
   "cell_type": "markdown",
   "metadata": {},
   "source": [
    "## Activity - 1 Find the average high and low temperature and plot a point grahp as per months"
   ]
  },
  {
   "cell_type": "code",
   "execution_count": 2,
   "metadata": {},
   "outputs": [
    {
     "ename": "ModuleNotFoundError",
     "evalue": "No module named 'pandas'",
     "output_type": "error",
     "traceback": [
      "\u001b[1;31m---------------------------------------------------------------------------\u001b[0m",
      "\u001b[1;31mModuleNotFoundError\u001b[0m                       Traceback (most recent call last)",
      "\u001b[1;32md:\\One Drive Backup\\OneDrive\\Desktop\\Codding\\Jupiter Notebook\\ADV-C191-Student\\ADV-C195-Student-20210113T085945Z-001\\ADV-C195-Student\\195-student.ipynb Cell 3'\u001b[0m in \u001b[0;36m<module>\u001b[1;34m\u001b[0m\n\u001b[0;32m      <a href='vscode-notebook-cell:/d%3A/One%20Drive%20Backup/OneDrive/Desktop/Codding/Jupiter%20Notebook/ADV-C191-Student/ADV-C195-Student-20210113T085945Z-001/ADV-C195-Student/195-student.ipynb#ch0000002?line=0'>1</a>\u001b[0m \u001b[39m#Activity 1\u001b[39;00m\n\u001b[1;32m----> <a href='vscode-notebook-cell:/d%3A/One%20Drive%20Backup/OneDrive/Desktop/Codding/Jupiter%20Notebook/ADV-C191-Student/ADV-C195-Student-20210113T085945Z-001/ADV-C195-Student/195-student.ipynb#ch0000002?line=1'>2</a>\u001b[0m \u001b[39mimport\u001b[39;00m \u001b[39mpandas\u001b[39;00m \u001b[39mas\u001b[39;00m \u001b[39mpd\u001b[39;00m\n\u001b[0;32m      <a href='vscode-notebook-cell:/d%3A/One%20Drive%20Backup/OneDrive/Desktop/Codding/Jupiter%20Notebook/ADV-C191-Student/ADV-C195-Student-20210113T085945Z-001/ADV-C195-Student/195-student.ipynb#ch0000002?line=2'>3</a>\u001b[0m \u001b[39mimport\u001b[39;00m \u001b[39mmatplotlib\u001b[39;00m\u001b[39m.\u001b[39;00m\u001b[39mpyplot\u001b[39;00m \u001b[39mas\u001b[39;00m \u001b[39mplt\u001b[39;00m \n\u001b[0;32m      <a href='vscode-notebook-cell:/d%3A/One%20Drive%20Backup/OneDrive/Desktop/Codding/Jupiter%20Notebook/ADV-C191-Student/ADV-C195-Student-20210113T085945Z-001/ADV-C195-Student/195-student.ipynb#ch0000002?line=4'>5</a>\u001b[0m \u001b[39m#read the csv\u001b[39;00m\n",
      "\u001b[1;31mModuleNotFoundError\u001b[0m: No module named 'pandas'"
     ]
    }
   ],
   "source": [
    "#Activity 1\n",
    "import pandas as pd\n",
    "import matplotlib.pyplot as plt \n",
    "\n",
    "#read the csv\n",
    "df = pd.read_csv('austin_weather.csv')\n",
    "df\n",
    "\n"
   ]
  },
  {
   "cell_type": "code",
   "execution_count": 3,
   "metadata": {},
   "outputs": [
    {
     "ename": "NameError",
     "evalue": "name 'pd' is not defined",
     "output_type": "error",
     "traceback": [
      "\u001b[1;31m---------------------------------------------------------------------------\u001b[0m",
      "\u001b[1;31mNameError\u001b[0m                                 Traceback (most recent call last)",
      "\u001b[1;32md:\\One Drive Backup\\OneDrive\\Desktop\\Codding\\Jupiter Notebook\\ADV-C191-Student\\ADV-C195-Student-20210113T085945Z-001\\ADV-C195-Student\\195-student.ipynb Cell 4'\u001b[0m in \u001b[0;36m<module>\u001b[1;34m\u001b[0m\n\u001b[0;32m      <a href='vscode-notebook-cell:/d%3A/One%20Drive%20Backup/OneDrive/Desktop/Codding/Jupiter%20Notebook/ADV-C191-Student/ADV-C195-Student-20210113T085945Z-001/ADV-C195-Student/195-student.ipynb#ch0000003?line=0'>1</a>\u001b[0m \u001b[39m#Fetech the months from Data column and add a new column\u001b[39;00m\n\u001b[1;32m----> <a href='vscode-notebook-cell:/d%3A/One%20Drive%20Backup/OneDrive/Desktop/Codding/Jupiter%20Notebook/ADV-C191-Student/ADV-C195-Student-20210113T085945Z-001/ADV-C195-Student/195-student.ipynb#ch0000003?line=1'>2</a>\u001b[0m df[\u001b[39m'\u001b[39m\u001b[39mmonth\u001b[39m\u001b[39m'\u001b[39m] \u001b[39m=\u001b[39m pd\u001b[39m.\u001b[39mDatetimeIndex(df[\u001b[39m'\u001b[39m\u001b[39mDate\u001b[39m\u001b[39m'\u001b[39m])\u001b[39m.\u001b[39mmonth\n\u001b[0;32m      <a href='vscode-notebook-cell:/d%3A/One%20Drive%20Backup/OneDrive/Desktop/Codding/Jupiter%20Notebook/ADV-C191-Student/ADV-C195-Student-20210113T085945Z-001/ADV-C195-Student/195-student.ipynb#ch0000003?line=2'>3</a>\u001b[0m df\n\u001b[0;32m      <a href='vscode-notebook-cell:/d%3A/One%20Drive%20Backup/OneDrive/Desktop/Codding/Jupiter%20Notebook/ADV-C191-Student/ADV-C195-Student-20210113T085945Z-001/ADV-C195-Student/195-student.ipynb#ch0000003?line=4'>5</a>\u001b[0m \u001b[39m#Group by month column and find the average high and low temperature and make a new dataframe out of it\u001b[39;00m\n",
      "\u001b[1;31mNameError\u001b[0m: name 'pd' is not defined"
     ]
    }
   ],
   "source": [
    "#Fetech the months from Data column and add a new column\n",
    "df['month'] = pd.DatetimeIndex(df['Date']).month\n",
    "df\n",
    "\n",
    "#Group by month column and find the average high and low temperature and make a new dataframe out of it\n",
    "group_by_month = df.groupby('month')[['TempHighF','TempLowF']].mean().reset_index()\n",
    "group_by_month\n",
    "\n"
   ]
  },
  {
   "cell_type": "code",
   "execution_count": 4,
   "metadata": {},
   "outputs": [
    {
     "ename": "NameError",
     "evalue": "name 'group_by_month' is not defined",
     "output_type": "error",
     "traceback": [
      "\u001b[1;31m---------------------------------------------------------------------------\u001b[0m",
      "\u001b[1;31mNameError\u001b[0m                                 Traceback (most recent call last)",
      "\u001b[1;32md:\\One Drive Backup\\OneDrive\\Desktop\\Codding\\Jupiter Notebook\\ADV-C191-Student\\ADV-C195-Student-20210113T085945Z-001\\ADV-C195-Student\\195-student.ipynb Cell 5'\u001b[0m in \u001b[0;36m<module>\u001b[1;34m\u001b[0m\n\u001b[0;32m      <a href='vscode-notebook-cell:/d%3A/One%20Drive%20Backup/OneDrive/Desktop/Codding/Jupiter%20Notebook/ADV-C191-Student/ADV-C195-Student-20210113T085945Z-001/ADV-C195-Student/195-student.ipynb#ch0000004?line=0'>1</a>\u001b[0m \u001b[39m#Plot a point scatter graph for the average high and low temperature as per months \u001b[39;00m\n\u001b[1;32m----> <a href='vscode-notebook-cell:/d%3A/One%20Drive%20Backup/OneDrive/Desktop/Codding/Jupiter%20Notebook/ADV-C191-Student/ADV-C195-Student-20210113T085945Z-001/ADV-C195-Student/195-student.ipynb#ch0000004?line=1'>2</a>\u001b[0m month \u001b[39m=\u001b[39m group_by_month[\u001b[39m'\u001b[39m\u001b[39mmonth\u001b[39m\u001b[39m'\u001b[39m]\n\u001b[0;32m      <a href='vscode-notebook-cell:/d%3A/One%20Drive%20Backup/OneDrive/Desktop/Codding/Jupiter%20Notebook/ADV-C191-Student/ADV-C195-Student-20210113T085945Z-001/ADV-C195-Student/195-student.ipynb#ch0000004?line=2'>3</a>\u001b[0m TempHighF \u001b[39m=\u001b[39m group_by_month[\u001b[39m'\u001b[39m\u001b[39mTempHighF\u001b[39m\u001b[39m'\u001b[39m]\n\u001b[0;32m      <a href='vscode-notebook-cell:/d%3A/One%20Drive%20Backup/OneDrive/Desktop/Codding/Jupiter%20Notebook/ADV-C191-Student/ADV-C195-Student-20210113T085945Z-001/ADV-C195-Student/195-student.ipynb#ch0000004?line=4'>5</a>\u001b[0m plt\u001b[39m.\u001b[39mscatter(month, TempHighF, label \u001b[39m=\u001b[39m \u001b[39m\"\u001b[39m\u001b[39mHigh temp\u001b[39m\u001b[39m\"\u001b[39m)\n",
      "\u001b[1;31mNameError\u001b[0m: name 'group_by_month' is not defined"
     ]
    }
   ],
   "source": [
    "#Plot a point scatter graph for the average high and low temperature as per months \n",
    "month = group_by_month['month']\n",
    "TempHighF = group_by_month['TempHighF']\n",
    "\n",
    "plt.scatter(month, TempHighF, label = \"High temp\")\n",
    "\n",
    "TempLowF = group_by_month['TempLowF']\n",
    "\n",
    "plt.scatter(month, TempLowF , label = \"Low temp\")\n",
    "plt.legend()\n",
    "\n"
   ]
  },
  {
   "cell_type": "markdown",
   "metadata": {},
   "source": [
    "Conclusion - By logic the low temperature is always lesser then high temperature hence we have plot the grahp correctly"
   ]
  },
  {
   "cell_type": "markdown",
   "metadata": {},
   "source": [
    "# Activity - 2 Plot a point graph for showing the correlation between humidity and temperature as per month\n"
   ]
  },
  {
   "cell_type": "code",
   "execution_count": 5,
   "metadata": {},
   "outputs": [
    {
     "ename": "ModuleNotFoundError",
     "evalue": "No module named 'pandas'",
     "output_type": "error",
     "traceback": [
      "\u001b[1;31m---------------------------------------------------------------------------\u001b[0m",
      "\u001b[1;31mModuleNotFoundError\u001b[0m                       Traceback (most recent call last)",
      "\u001b[1;32md:\\One Drive Backup\\OneDrive\\Desktop\\Codding\\Jupiter Notebook\\ADV-C191-Student\\ADV-C195-Student-20210113T085945Z-001\\ADV-C195-Student\\195-student.ipynb Cell 8'\u001b[0m in \u001b[0;36m<module>\u001b[1;34m\u001b[0m\n\u001b[0;32m      <a href='vscode-notebook-cell:/d%3A/One%20Drive%20Backup/OneDrive/Desktop/Codding/Jupiter%20Notebook/ADV-C191-Student/ADV-C195-Student-20210113T085945Z-001/ADV-C195-Student/195-student.ipynb#ch0000007?line=0'>1</a>\u001b[0m \u001b[39m#Activity 2\u001b[39;00m\n\u001b[1;32m----> <a href='vscode-notebook-cell:/d%3A/One%20Drive%20Backup/OneDrive/Desktop/Codding/Jupiter%20Notebook/ADV-C191-Student/ADV-C195-Student-20210113T085945Z-001/ADV-C195-Student/195-student.ipynb#ch0000007?line=1'>2</a>\u001b[0m \u001b[39mimport\u001b[39;00m \u001b[39mpandas\u001b[39;00m \u001b[39mas\u001b[39;00m \u001b[39mpd\u001b[39;00m\n\u001b[0;32m      <a href='vscode-notebook-cell:/d%3A/One%20Drive%20Backup/OneDrive/Desktop/Codding/Jupiter%20Notebook/ADV-C191-Student/ADV-C195-Student-20210113T085945Z-001/ADV-C195-Student/195-student.ipynb#ch0000007?line=2'>3</a>\u001b[0m \u001b[39mimport\u001b[39;00m \u001b[39mmatplotlib\u001b[39;00m\u001b[39m.\u001b[39;00m\u001b[39mpyplot\u001b[39;00m \u001b[39mas\u001b[39;00m \u001b[39mplt\u001b[39;00m\n\u001b[0;32m      <a href='vscode-notebook-cell:/d%3A/One%20Drive%20Backup/OneDrive/Desktop/Codding/Jupiter%20Notebook/ADV-C191-Student/ADV-C195-Student-20210113T085945Z-001/ADV-C195-Student/195-student.ipynb#ch0000007?line=3'>4</a>\u001b[0m \u001b[39m#Read the dataframe\u001b[39;00m\n",
      "\u001b[1;31mModuleNotFoundError\u001b[0m: No module named 'pandas'"
     ]
    }
   ],
   "source": [
    "#Activity 2\n",
    "import pandas as pd\n",
    "import matplotlib.pyplot as plt\n",
    "#Read the dataframe\n",
    "dataframe = pd.read_csv('austin_weather.csv')\n",
    "dataframe\n",
    "#Fetech the months from Data column and add a new column\n",
    "dataframe['month'] = pd.DatetimeIndex(dataframe['Date']).month\n",
    "dataframe\n",
    "\n",
    "\n"
   ]
  },
  {
   "cell_type": "code",
   "execution_count": 6,
   "metadata": {},
   "outputs": [
    {
     "ename": "NameError",
     "evalue": "name 'dataframe' is not defined",
     "output_type": "error",
     "traceback": [
      "\u001b[1;31m---------------------------------------------------------------------------\u001b[0m",
      "\u001b[1;31mNameError\u001b[0m                                 Traceback (most recent call last)",
      "\u001b[1;32md:\\One Drive Backup\\OneDrive\\Desktop\\Codding\\Jupiter Notebook\\ADV-C191-Student\\ADV-C195-Student-20210113T085945Z-001\\ADV-C195-Student\\195-student.ipynb Cell 9'\u001b[0m in \u001b[0;36m<module>\u001b[1;34m\u001b[0m\n\u001b[0;32m      <a href='vscode-notebook-cell:/d%3A/One%20Drive%20Backup/OneDrive/Desktop/Codding/Jupiter%20Notebook/ADV-C191-Student/ADV-C195-Student-20210113T085945Z-001/ADV-C195-Student/195-student.ipynb#ch0000008?line=0'>1</a>\u001b[0m \u001b[39m#cleaning the data\u001b[39;00m\n\u001b[1;32m----> <a href='vscode-notebook-cell:/d%3A/One%20Drive%20Backup/OneDrive/Desktop/Codding/Jupiter%20Notebook/ADV-C191-Student/ADV-C195-Student-20210113T085945Z-001/ADV-C195-Student/195-student.ipynb#ch0000008?line=1'>2</a>\u001b[0m dataframe\u001b[39m.\u001b[39mreplace(\u001b[39m\"\u001b[39m\u001b[39m-\u001b[39m\u001b[39m\"\u001b[39m, \u001b[39mfloat\u001b[39m(\u001b[39m\"\u001b[39m\u001b[39mNaN\u001b[39m\u001b[39m\"\u001b[39m), inplace\u001b[39m=\u001b[39m\u001b[39mTrue\u001b[39;00m)\n\u001b[0;32m      <a href='vscode-notebook-cell:/d%3A/One%20Drive%20Backup/OneDrive/Desktop/Codding/Jupiter%20Notebook/ADV-C191-Student/ADV-C195-Student-20210113T085945Z-001/ADV-C195-Student/195-student.ipynb#ch0000008?line=2'>3</a>\u001b[0m df \u001b[39m=\u001b[39m dataframe\u001b[39m.\u001b[39mdropna()\n\u001b[0;32m      <a href='vscode-notebook-cell:/d%3A/One%20Drive%20Backup/OneDrive/Desktop/Codding/Jupiter%20Notebook/ADV-C191-Student/ADV-C195-Student-20210113T085945Z-001/ADV-C195-Student/195-student.ipynb#ch0000008?line=3'>4</a>\u001b[0m df\n",
      "\u001b[1;31mNameError\u001b[0m: name 'dataframe' is not defined"
     ]
    }
   ],
   "source": [
    "#cleaning the data\n",
    "dataframe.replace(\"-\", float(\"NaN\"), inplace=True)\n",
    "df = dataframe.dropna()\n",
    "df\n",
    "\n",
    "#Converting datatype of HumidityHighPercent column from object to int\n",
    "df['HumidityHighPercent'] = df['HumidityHighPercent'].astype(int)\n",
    "df\n"
   ]
  },
  {
   "cell_type": "code",
   "execution_count": 7,
   "metadata": {},
   "outputs": [
    {
     "ename": "NameError",
     "evalue": "name 'df' is not defined",
     "output_type": "error",
     "traceback": [
      "\u001b[1;31m---------------------------------------------------------------------------\u001b[0m",
      "\u001b[1;31mNameError\u001b[0m                                 Traceback (most recent call last)",
      "\u001b[1;32md:\\One Drive Backup\\OneDrive\\Desktop\\Codding\\Jupiter Notebook\\ADV-C191-Student\\ADV-C195-Student-20210113T085945Z-001\\ADV-C195-Student\\195-student.ipynb Cell 10'\u001b[0m in \u001b[0;36m<module>\u001b[1;34m\u001b[0m\n\u001b[0;32m      <a href='vscode-notebook-cell:/d%3A/One%20Drive%20Backup/OneDrive/Desktop/Codding/Jupiter%20Notebook/ADV-C191-Student/ADV-C195-Student-20210113T085945Z-001/ADV-C195-Student/195-student.ipynb#ch0000009?line=0'>1</a>\u001b[0m \u001b[39m#Group by month column and out the find the average temperature and humidity \u001b[39;00m\n\u001b[1;32m----> <a href='vscode-notebook-cell:/d%3A/One%20Drive%20Backup/OneDrive/Desktop/Codding/Jupiter%20Notebook/ADV-C191-Student/ADV-C195-Student-20210113T085945Z-001/ADV-C195-Student/195-student.ipynb#ch0000009?line=1'>2</a>\u001b[0m group_by_month \u001b[39m=\u001b[39m df\u001b[39m.\u001b[39mgroupby(\u001b[39m'\u001b[39m\u001b[39mmonth\u001b[39m\u001b[39m'\u001b[39m)[[\u001b[39m'\u001b[39m\u001b[39mTempHighF\u001b[39m\u001b[39m'\u001b[39m,\u001b[39m'\u001b[39m\u001b[39mHumidityHighPercent\u001b[39m\u001b[39m'\u001b[39m]]\u001b[39m.\u001b[39mmean()\u001b[39m.\u001b[39mreset_index()\n\u001b[0;32m      <a href='vscode-notebook-cell:/d%3A/One%20Drive%20Backup/OneDrive/Desktop/Codding/Jupiter%20Notebook/ADV-C191-Student/ADV-C195-Student-20210113T085945Z-001/ADV-C195-Student/195-student.ipynb#ch0000009?line=2'>3</a>\u001b[0m group_by_month\n",
      "\u001b[1;31mNameError\u001b[0m: name 'df' is not defined"
     ]
    }
   ],
   "source": [
    "#Group by month column and out the find the average temperature and humidity \n",
    "group_by_month = df.groupby('month')[['TempHighF','HumidityHighPercent']].mean().reset_index()\n",
    "group_by_month"
   ]
  },
  {
   "cell_type": "code",
   "execution_count": 8,
   "metadata": {},
   "outputs": [
    {
     "ename": "NameError",
     "evalue": "name 'group_by_month' is not defined",
     "output_type": "error",
     "traceback": [
      "\u001b[1;31m---------------------------------------------------------------------------\u001b[0m",
      "\u001b[1;31mNameError\u001b[0m                                 Traceback (most recent call last)",
      "\u001b[1;32md:\\One Drive Backup\\OneDrive\\Desktop\\Codding\\Jupiter Notebook\\ADV-C191-Student\\ADV-C195-Student-20210113T085945Z-001\\ADV-C195-Student\\195-student.ipynb Cell 11'\u001b[0m in \u001b[0;36m<module>\u001b[1;34m\u001b[0m\n\u001b[0;32m      <a href='vscode-notebook-cell:/d%3A/One%20Drive%20Backup/OneDrive/Desktop/Codding/Jupiter%20Notebook/ADV-C191-Student/ADV-C195-Student-20210113T085945Z-001/ADV-C195-Student/195-student.ipynb#ch0000010?line=0'>1</a>\u001b[0m \u001b[39m#Plot a point scatter graph for the average temperature and humidity as per months \u001b[39;00m\n\u001b[1;32m----> <a href='vscode-notebook-cell:/d%3A/One%20Drive%20Backup/OneDrive/Desktop/Codding/Jupiter%20Notebook/ADV-C191-Student/ADV-C195-Student-20210113T085945Z-001/ADV-C195-Student/195-student.ipynb#ch0000010?line=1'>2</a>\u001b[0m month \u001b[39m=\u001b[39m group_by_month[\u001b[39m'\u001b[39m\u001b[39mmonth\u001b[39m\u001b[39m'\u001b[39m]\n\u001b[0;32m      <a href='vscode-notebook-cell:/d%3A/One%20Drive%20Backup/OneDrive/Desktop/Codding/Jupiter%20Notebook/ADV-C191-Student/ADV-C195-Student-20210113T085945Z-001/ADV-C195-Student/195-student.ipynb#ch0000010?line=2'>3</a>\u001b[0m TempHighF \u001b[39m=\u001b[39m group_by_month[\u001b[39m'\u001b[39m\u001b[39mTempHighF\u001b[39m\u001b[39m'\u001b[39m]\n\u001b[0;32m      <a href='vscode-notebook-cell:/d%3A/One%20Drive%20Backup/OneDrive/Desktop/Codding/Jupiter%20Notebook/ADV-C191-Student/ADV-C195-Student-20210113T085945Z-001/ADV-C195-Student/195-student.ipynb#ch0000010?line=4'>5</a>\u001b[0m plt\u001b[39m.\u001b[39mscatter(month, TempHighF, label \u001b[39m=\u001b[39m \u001b[39m\"\u001b[39m\u001b[39mAveragetemeprature\u001b[39m\u001b[39m\"\u001b[39m)\n",
      "\u001b[1;31mNameError\u001b[0m: name 'group_by_month' is not defined"
     ]
    }
   ],
   "source": [
    "#Plot a point scatter graph for the average temperature and humidity as per months \n",
    "month = group_by_month['month']\n",
    "TempHighF = group_by_month['TempHighF']\n",
    "\n",
    "plt.scatter(month, TempHighF, label = \"Averagetemeprature\")\n",
    "HumidityHighPercent = group_by_month['HumidityHighPercent']\n",
    "plt.scatter(month, HumidityHighPercent , label = \"Average humidity\")\n",
    "plt.legend()"
   ]
  },
  {
   "cell_type": "markdown",
   "metadata": {},
   "source": [
    "Conclusion - "
   ]
  },
  {
   "cell_type": "code",
   "execution_count": 5,
   "metadata": {},
   "outputs": [],
   "source": [
    "#Print the Events column(which has weather information) and cross check the observation\n"
   ]
  },
  {
   "cell_type": "markdown",
   "metadata": {},
   "source": [
    "Conclusion -  "
   ]
  },
  {
   "cell_type": "code",
   "execution_count": null,
   "metadata": {},
   "outputs": [],
   "source": []
  },
  {
   "cell_type": "code",
   "execution_count": null,
   "metadata": {},
   "outputs": [],
   "source": []
  }
 ],
 "metadata": {
  "kernelspec": {
   "display_name": "Python 3",
   "language": "python",
   "name": "python3"
  },
  "language_info": {
   "codemirror_mode": {
    "name": "ipython",
    "version": 3
   },
   "file_extension": ".py",
   "mimetype": "text/x-python",
   "name": "python",
   "nbconvert_exporter": "python",
   "pygments_lexer": "ipython3",
   "version": "3.8.0"
  }
 },
 "nbformat": 4,
 "nbformat_minor": 4
}
